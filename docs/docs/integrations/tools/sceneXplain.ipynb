{
 "cells": [
  {
   "attachments": {},
   "cell_type": "markdown",
   "metadata": {},
   "source": [
    "# SceneXplain\n",
    "\n",
    "\n",
    "[SceneXplain](https://scenex.jina.ai/) is an ImageCaptioning service accessible through the SceneXplain Tool.\n",
    "\n",
    "To use this tool, you'll need to make an account and fetch your API Token [from the website](https://scenex.jina.ai/api). Then you can instantiate the tool."
   ]
  },
  {
   "cell_type": "code",
   "execution_count": 1,
   "metadata": {},
   "outputs": [],
   "source": [
    "import os\n",
    "\n",
    "os.environ[\"SCENEX_API_KEY\"] = \"\""
   ]
  },
  {
   "cell_type": "code",
   "execution_count": 2,
   "metadata": {},
   "outputs": [
    {
     "data": {
      "text/plain": [
       "\"The image portrays a serene, rain-soaked scene from the animated film *My Neighbor Totoro*. A young girl, Satsuki, stands to the left of a massive gray creature named Totoro. Satsuki is holding a pink umbrella and dressed in bright clothing, while Totoro holds a large dark-colored umbrella. They are sharing this quiet moment together in the rain, which cascades gently around them, creating a tranquil and heartwarming atmosphere. In the background, there is a sidewalk and a signpost, hinting at the iconic setting of the bus stop from the film. Totoro's large, rounded form, tall ears, and calm demeanor make him an endearing figure beside the smaller Satsuki. Their companionship captures the magic and emotional depth of the film.\""
      ]
     },
     "execution_count": 2,
     "metadata": {},
     "output_type": "execute_result"
    }
   ],
   "source": [
    "from langchain_community.tools import SceneXplainTool\n",
    "\n",
    "tool = SceneXplainTool()\n",
    "tool.run(\n",
    "    \"https://storage.googleapis.com/causal-diffusion.appspot.com/imagePrompts%2F0rw369i5h9t%2Foriginal.png\"\n",
    ")"
   ]
  },
  {
   "attachments": {},
   "cell_type": "markdown",
   "metadata": {},
   "source": [
    "## Usage in an Agent\n",
    "\n",
    "The tool can be used in any LangChain agent as follows:"
   ]
  },
  {
   "cell_type": "code",
   "execution_count": 3,
   "metadata": {},
   "outputs": [],
   "source": [
    "import os\n",
    "\n",
    "os.environ[\"OPENAI_API_KEY\"] = \"\"\n",
    "os.environ[\"SCENEX_API_KEY\"] = \"\""
   ]
  },
  {
   "cell_type": "code",
   "execution_count": 4,
   "metadata": {},
   "outputs": [],
   "source": [
    "from langchain_community.agent_toolkits.load_tools import load_tools\n",
    "\n",
    "tools = load_tools([\"sceneXplain\"])"
   ]
  },
  {
   "cell_type": "code",
   "execution_count": 5,
   "metadata": {},
   "outputs": [],
   "source": [
    "from langgraph.prebuilt import create_react_agent\n",
    "\n",
    "agent = create_react_agent(\"openai:gpt-4.1-mini\", tools)"
   ]
  },
  {
   "cell_type": "code",
   "execution_count": 6,
   "metadata": {},
   "outputs": [
    {
     "name": "stdout",
     "output_type": "stream",
     "text": [
      "================================\u001b[1m Human Message \u001b[0m=================================\n",
      "\n",
      "What is in this image https://storage.googleapis.com/causal-diffusion.appspot.com/imagePrompts%2F0rw369i5h9t%2Foriginal.pngIs it movie or a game? If it is a movie, what is the name of the movie? Answer the question based on the image\n",
      "==================================\u001b[1m Ai Message \u001b[0m==================================\n",
      "Tool Calls:\n",
      "  image_explainer (call_eg4cvhJAiUHrZPrWg5G7ScBS)\n",
      " Call ID: call_eg4cvhJAiUHrZPrWg5G7ScBS\n",
      "  Args:\n",
      "    query: https://storage.googleapis.com/causal-diffusion.appspot.com/imagePrompts%2F0rw369i5h9t%2Foriginal.png\n",
      "=================================\u001b[1m Tool Message \u001b[0m=================================\n",
      "Name: image_explainer\n",
      "\n",
      "The image depicts a scene from the animated film \"My Neighbor Totoro.\" Totoro, a large grey-brown creature resembling a cat-bear, is standing in the rain beside a young girl. Both characters are holding umbrellas: Totoro has a black one, and the girl holds a pink one. They are positioned near a bus stop on a rainy day, with lush green woods and a dark forest visible in the background. The scene conveys an emotional and warm atmosphere, highlighting the bond between the characters.\n",
      "==================================\u001b[1m Ai Message \u001b[0m==================================\n",
      "\n",
      "The image is from the animated movie \"My Neighbor Totoro.\" It shows Totoro, a large grey-brown creature, standing in the rain beside a young girl who is holding an umbrella at a bus stop. This is not a game, but a scene from this well-known animated film.\n"
     ]
    }
   ],
   "source": [
    "input_message = {\n",
    "    \"role\": \"user\",\n",
    "    \"content\": (\n",
    "        \"What is in this image https://storage.googleapis.com/causal-diffusion.appspot.com/imagePrompts%2F0rw369i5h9t%2Foriginal.png\"\n",
    "        \"Is it movie or a game? If it is a movie, what is the name of the movie? Answer the question based on the image\"\n",
    "    ),\n",
    "}\n",
    "\n",
    "for step in agent.stream(\n",
    "    {\"messages\": [input_message]},\n",
    "    stream_mode=\"values\",\n",
    "):\n",
    "    step[\"messages\"][-1].pretty_print()"
   ]
  },
  {
   "cell_type": "code",
   "execution_count": null,
   "metadata": {},
   "outputs": [],
   "source": []
  }
 ],
 "metadata": {
  "kernelspec": {
   "display_name": "Python 3 (ipykernel)",
   "language": "python",
   "name": "python3"
  },
  "language_info": {
   "codemirror_mode": {
    "name": "ipython",
    "version": 3
   },
   "file_extension": ".py",
   "mimetype": "text/x-python",
   "name": "python",
   "nbconvert_exporter": "python",
   "pygments_lexer": "ipython3",
   "version": "3.12.4"
  }
 },
 "nbformat": 4,
 "nbformat_minor": 4
}
